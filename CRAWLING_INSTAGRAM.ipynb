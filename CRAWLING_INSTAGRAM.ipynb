{
  "nbformat": 4,
  "nbformat_minor": 0,
  "metadata": {
    "colab": {
      "provenance": []
    },
    "kernelspec": {
      "name": "python3",
      "display_name": "Python 3"
    },
    "language_info": {
      "name": "python"
    }
  },
  "cells": [
    {
      "cell_type": "code",
      "execution_count": null,
      "metadata": {
        "colab": {
          "base_uri": "https://localhost:8080/"
        },
        "id": "NTbq7wmFj2q_",
        "outputId": "789399ea-0b87-48f2-9863-dd859c0078be"
      },
      "outputs": [
        {
          "output_type": "stream",
          "name": "stdout",
          "text": [
            "Collecting instaloader\n",
            "  Downloading instaloader-4.13.tar.gz (65 kB)\n",
            "\u001b[2K     \u001b[90m━━━━━━━━━━━━━━━━━━━━━━━━━━━━━━━━━━━━━━━━\u001b[0m \u001b[32m65.4/65.4 kB\u001b[0m \u001b[31m2.6 MB/s\u001b[0m eta \u001b[36m0:00:00\u001b[0m\n",
            "\u001b[?25h  Preparing metadata (setup.py) ... \u001b[?25l\u001b[?25hdone\n",
            "Collecting instagrapi\n",
            "  Downloading instagrapi-2.1.2.tar.gz (102 kB)\n",
            "\u001b[2K     \u001b[90m━━━━━━━━━━━━━━━━━━━━━━━━━━━━━━━━━━━━━━━━\u001b[0m \u001b[32m102.2/102.2 kB\u001b[0m \u001b[31m3.8 MB/s\u001b[0m eta \u001b[36m0:00:00\u001b[0m\n",
            "\u001b[?25h  Preparing metadata (setup.py) ... \u001b[?25l\u001b[?25hdone\n",
            "Requirement already satisfied: requests>=2.4 in /usr/local/lib/python3.10/dist-packages (from instaloader) (2.32.3)\n",
            "Requirement already satisfied: PySocks==1.7.1 in /usr/local/lib/python3.10/dist-packages (from instagrapi) (1.7.1)\n",
            "Collecting pydantic==2.7.1 (from instagrapi)\n",
            "  Downloading pydantic-2.7.1-py3-none-any.whl.metadata (107 kB)\n",
            "\u001b[2K     \u001b[90m━━━━━━━━━━━━━━━━━━━━━━━━━━━━━━━━━━━━━━━━\u001b[0m \u001b[32m107.3/107.3 kB\u001b[0m \u001b[31m2.7 MB/s\u001b[0m eta \u001b[36m0:00:00\u001b[0m\n",
            "\u001b[?25hCollecting pycryptodomex==3.20.0 (from instagrapi)\n",
            "  Downloading pycryptodomex-3.20.0-cp35-abi3-manylinux_2_17_x86_64.manylinux2014_x86_64.whl.metadata (3.4 kB)\n",
            "Requirement already satisfied: annotated-types>=0.4.0 in /usr/local/lib/python3.10/dist-packages (from pydantic==2.7.1->instagrapi) (0.7.0)\n",
            "Collecting pydantic-core==2.18.2 (from pydantic==2.7.1->instagrapi)\n",
            "  Downloading pydantic_core-2.18.2-cp310-cp310-manylinux_2_17_x86_64.manylinux2014_x86_64.whl.metadata (6.5 kB)\n",
            "Requirement already satisfied: typing-extensions>=4.6.1 in /usr/local/lib/python3.10/dist-packages (from pydantic==2.7.1->instagrapi) (4.12.2)\n",
            "Requirement already satisfied: charset-normalizer<4,>=2 in /usr/local/lib/python3.10/dist-packages (from requests>=2.4->instaloader) (3.3.2)\n",
            "Requirement already satisfied: idna<4,>=2.5 in /usr/local/lib/python3.10/dist-packages (from requests>=2.4->instaloader) (3.7)\n",
            "Requirement already satisfied: urllib3<3,>=1.21.1 in /usr/local/lib/python3.10/dist-packages (from requests>=2.4->instaloader) (2.0.7)\n",
            "Requirement already satisfied: certifi>=2017.4.17 in /usr/local/lib/python3.10/dist-packages (from requests>=2.4->instaloader) (2024.7.4)\n",
            "Downloading pycryptodomex-3.20.0-cp35-abi3-manylinux_2_17_x86_64.manylinux2014_x86_64.whl (2.1 MB)\n",
            "\u001b[2K   \u001b[90m━━━━━━━━━━━━━━━━━━━━━━━━━━━━━━━━━━━━━━━━\u001b[0m \u001b[32m2.1/2.1 MB\u001b[0m \u001b[31m35.3 MB/s\u001b[0m eta \u001b[36m0:00:00\u001b[0m\n",
            "\u001b[?25hDownloading pydantic-2.7.1-py3-none-any.whl (409 kB)\n",
            "\u001b[2K   \u001b[90m━━━━━━━━━━━━━━━━━━━━━━━━━━━━━━━━━━━━━━━━\u001b[0m \u001b[32m409.3/409.3 kB\u001b[0m \u001b[31m12.5 MB/s\u001b[0m eta \u001b[36m0:00:00\u001b[0m\n",
            "\u001b[?25hDownloading pydantic_core-2.18.2-cp310-cp310-manylinux_2_17_x86_64.manylinux2014_x86_64.whl (2.1 MB)\n",
            "\u001b[2K   \u001b[90m━━━━━━━━━━━━━━━━━━━━━━━━━━━━━━━━━━━━━━━━\u001b[0m \u001b[32m2.1/2.1 MB\u001b[0m \u001b[31m49.3 MB/s\u001b[0m eta \u001b[36m0:00:00\u001b[0m\n",
            "\u001b[?25hBuilding wheels for collected packages: instaloader, instagrapi\n",
            "  Building wheel for instaloader (setup.py) ... \u001b[?25l\u001b[?25hdone\n",
            "  Created wheel for instaloader: filename=instaloader-4.13-py3-none-any.whl size=67481 sha256=b47428c6e22802ae75428505f2f69f8047918faac1b64af3c991ab778658176c\n",
            "  Stored in directory: /root/.cache/pip/wheels/2e/9b/eb/43b45fb5dadc042e7512c74e2bedbb5c740efb37fb9023d23d\n",
            "  Building wheel for instagrapi (setup.py) ... \u001b[?25l\u001b[?25hdone\n",
            "  Created wheel for instagrapi: filename=instagrapi-2.1.2-py3-none-any.whl size=115888 sha256=3cc319004f8c4220094f664b0545ad82af2f718dba1983835c837741681f7b50\n",
            "  Stored in directory: /root/.cache/pip/wheels/85/31/f1/933961631ec77b1c9ee992e0a11cb12b14eceae06ff87628bc\n",
            "Successfully built instaloader instagrapi\n",
            "Installing collected packages: pydantic-core, pycryptodomex, pydantic, instaloader, instagrapi\n",
            "  Attempting uninstall: pydantic-core\n",
            "    Found existing installation: pydantic_core 2.20.1\n",
            "    Uninstalling pydantic_core-2.20.1:\n",
            "      Successfully uninstalled pydantic_core-2.20.1\n",
            "  Attempting uninstall: pydantic\n",
            "    Found existing installation: pydantic 2.8.2\n",
            "    Uninstalling pydantic-2.8.2:\n",
            "      Successfully uninstalled pydantic-2.8.2\n",
            "Successfully installed instagrapi-2.1.2 instaloader-4.13 pycryptodomex-3.20.0 pydantic-2.7.1 pydantic-core-2.18.2\n"
          ]
        }
      ],
      "source": [
        "!pip install instaloader instagrapi"
      ]
    },
    {
      "cell_type": "code",
      "source": [
        "from instagrapi import Client\n",
        "\n",
        "# Inisialisasi instagrapi client\n",
        "cl = Client()\n",
        "\n",
        "# Masukkan username dan password akun dummy\n",
        "username = 'isi'  # Ganti dengan username akun Instagram dummy kamu\n",
        "password = 'isi'  # Ganti dengan password akun Instagram dummy kamu\n",
        "\n",
        "# Login ke Instagram\n",
        "cl.login(username, password)\n",
        "\n",
        "# Jika login berhasil, akan muncul pesan sukses\n",
        "print(\"Login berhasil!\")\n"
      ],
      "metadata": {
        "id": "prqnUupgj480"
      },
      "execution_count": null,
      "outputs": []
    },
    {
      "cell_type": "code",
      "source": [
        "from instagrapi import Client\n",
        "import re\n",
        "import pandas as pd\n",
        "\n",
        "# Inisialisasi instagrapi client\n",
        "cl = Client()\n",
        "\n",
        "# Login ke Instagram\n",
        "username = 'isi'  # Ganti dengan username akun Instagram dummy kamu\n",
        "password = 'isi'  # Ganti dengan password akun Instagram dummy kamu\n",
        "cl.login(username, password)\n",
        "\n",
        "# Fungsi untuk mengambil shortcode dari URL postingan\n",
        "def get_shortcode_from_url(url):\n",
        "    match = re.search(r'/p/([^/]+)/', url)\n",
        "    if match:\n",
        "        return match.group(1)\n",
        "    return None\n",
        "\n",
        "# Masukkan URL postingan\n",
        "url_postingan = 'https://www.instagram.com/p/C8jP6rWJDeH/?utm_source=ig_web_copy_link&igsh=MzRlODBiNWFlZA==' # Sesuaikan link postingan dengan postingan Instagram yang di tuju\n",
        "shortcode = get_shortcode_from_url(url_postingan)\n",
        "\n",
        "# Mengambil detail media berdasarkan shortcode\n",
        "media = cl.media_info(cl.media_id(cl.media_pk_from_url(url_postingan)))\n",
        "\n",
        "# Tentukan jumlah komentar yang ingin diambil\n",
        "jumlah_komentar = 1000  # Ubah sesuai kebutuhan komentar\n",
        "\n",
        "# Mengambil komentar menggunakan instagrapi\n",
        "comments = cl.media_comments(media.id, amount=jumlah_komentar)\n",
        "\n",
        "# Menyimpan komentar ke dalam list\n",
        "data_komentar = []\n",
        "for comment in comments:\n",
        "    data_komentar.append({\n",
        "        'username': comment.user.username,\n",
        "        'comment': comment.text\n",
        "    })\n",
        "\n",
        "# Mengubah list komentar menjadi DataFrame\n",
        "df = pd.DataFrame(data_komentar)\n",
        "\n",
        "# Menyimpan DataFrame ke file CSV\n",
        "df.to_csv('komentar_instagram.csv', index=False)\n",
        "\n",
        "print(\"Komentar berhasil disimpan ke 'komentar_instagram1_pelaksanaan test bumn post2.csv'\")\n"
      ],
      "metadata": {
        "id": "Ev-jh20wd3X6"
      },
      "execution_count": null,
      "outputs": []
    }
  ]
}