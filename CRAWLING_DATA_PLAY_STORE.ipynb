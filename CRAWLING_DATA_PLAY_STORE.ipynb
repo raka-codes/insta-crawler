{
  "nbformat": 4,
  "nbformat_minor": 0,
  "metadata": {
    "colab": {
      "provenance": []
    },
    "kernelspec": {
      "name": "python3",
      "display_name": "Python 3"
    },
    "language_info": {
      "name": "python"
    }
  },
  "cells": [
    {
      "cell_type": "code",
      "source": [
        "!pip install google-play-scraper"
      ],
      "metadata": {
        "colab": {
          "base_uri": "https://localhost:8080/"
        },
        "id": "O0-49pesWchY",
        "outputId": "e78f48dd-bae2-499d-b819-c3aff5bdc65f"
      },
      "execution_count": null,
      "outputs": [
        {
          "output_type": "stream",
          "name": "stdout",
          "text": [
            "Collecting google-play-scraper\n",
            "  Downloading google_play_scraper-1.2.7-py3-none-any.whl (28 kB)\n",
            "Installing collected packages: google-play-scraper\n",
            "Successfully installed google-play-scraper-1.2.7\n"
          ]
        }
      ]
    },
    {
      "cell_type": "code",
      "source": [
        "from google_play_scraper import reviews, Sort\n",
        "\n",
        "# ID aplikasi PUBG di Play Store\n",
        "app_id = 'com.tencent.ig'\n",
        "\n",
        "# Mendapatkan ulasan aplikasi dengan filter bahasa Indonesia dan batasan jumlah ulasan\n",
        "result, continuation_token = reviews(\n",
        "    app_id,\n",
        "    lang='id',  # Filter bahasa Indonesia\n",
        "    country='id',  # Filter ulasan dari Indonesia\n",
        "    sort=Sort.NEWEST,  # Mengurutkan ulasan berdasarkan yang terbaru\n",
        "    count=20000  # Batasan jumlah ulasan yang diambil\n",
        ")\n",
        "\n",
        "# Menampilkan hasil scraping\n",
        "for review in result:\n",
        "    print(f\"User: {review['userName']}\")\n",
        "    print(f\"Rating: {review['score']}\")\n",
        "    print(f\"Tanggal: {review['at']}\")\n",
        "    print(f\"Review: {review['content']}\\n\")"
      ],
      "metadata": {
        "id": "6PXjeLajWyLY"
      },
      "execution_count": null,
      "outputs": []
    },
    {
      "cell_type": "code",
      "source": [
        "import pandas as pd"
      ],
      "metadata": {
        "id": "uC-oHkCPXUJ0"
      },
      "execution_count": null,
      "outputs": []
    },
    {
      "cell_type": "code",
      "source": [
        "# Membuat DataFrame dari hasil scraping\n",
        "reviews_df = pd.DataFrame(result)\n",
        "\n",
        "# Memilih kolom yang relevan\n",
        "reviews_df = reviews_df[['userName', 'score', 'at', 'content']]\n",
        "\n",
        "# Menyimpan DataFrame ke file CSV\n",
        "reviews_df.to_csv('pubg_reviews.csv', index=False)\n",
        "\n",
        "print(\"Komentar berhasil disimpan ke file pubg_reviews.csv\")"
      ],
      "metadata": {
        "colab": {
          "base_uri": "https://localhost:8080/"
        },
        "id": "AIKsVhTBW4vv",
        "outputId": "adf3414b-e76b-48ca-ae25-0d320cdb5ecd"
      },
      "execution_count": null,
      "outputs": [
        {
          "output_type": "stream",
          "name": "stdout",
          "text": [
            "Komentar berhasil disimpan ke file pubg_reviews.csv\n"
          ]
        }
      ]
    },
    {
      "cell_type": "code",
      "source": [],
      "metadata": {
        "id": "XFKLwzRCXRLJ"
      },
      "execution_count": null,
      "outputs": []
    }
  ]
}